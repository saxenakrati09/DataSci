{
 "cells": [
  {
   "cell_type": "markdown",
   "metadata": {},
   "source": [
    "# Markov Process"
   ]
  },
  {
   "cell_type": "markdown",
   "metadata": {},
   "source": [
    "Example code for markov process programming\n",
    "\n",
    "Markov process follows the Markov property wherein:\n",
    "ℙ[S_t+1|S_t]=ℙ[S_t+1|S_t,⋯,S_1]\n",
    "P[S_t+1|S_t]=P[S_t+1|S_t,⋯,S_1]\n",
    " \n",
    "The complete Markov Process is explained using the transition matrix  P  which is a  n×n  matrix where  n  is the number of states and with transition from state  s  to state  s′  given by:\n",
    "P_ss′=ℙ[S_t+1=s′|S_t=s]"
   ]
  },
  {
   "cell_type": "code",
   "execution_count": 4,
   "metadata": {
    "collapsed": true
   },
   "outputs": [],
   "source": [
    "# import modules\n",
    "\n",
    "import numpy as np\n",
    "from scipy import stats"
   ]
  },
  {
   "cell_type": "markdown",
   "metadata": {},
   "source": [
    "In this example, we will implement the following Markov chain:\n",
    "    The student Markov chain"
   ]
  },
  {
   "cell_type": "code",
   "execution_count": 12,
   "metadata": {
    "collapsed": true
   },
   "outputs": [],
   "source": [
    "# this markov chain is implemented using a dict and transition matrix\n",
    "nStates = 7\n",
    "states = {0:'C1', 1:'C2', 2:'C3', 3:'FB', 4:'Pb', 5:'Ps', 6:'S'}\n",
    "transMatrix = np.asarray([[0.0,0.5,0.0,0.5,0.0,0.0,0.0],\n",
    "                          [0.0,0.0,0.8,0.0,0.0,0.0,0.2],\n",
    "                          [0.0,0.0,0.0,0.0,0.4,0.6,0.0],\n",
    "                          [0.1,0.0,0.0,0.9,0.0,0.0,0.0],\n",
    "                          [0.2,0.4,0.4,0.0,0.0,0.0,0.0],\n",
    "                          [0.0,0.0,0.0,0.0,0.0,0.0,1.0],\n",
    "                          [0.0,0.0,0.0,0.0,0.0,0.0,1.0]])\n"
   ]
  },
  {
   "cell_type": "code",
   "execution_count": 13,
   "metadata": {},
   "outputs": [],
   "source": [
    "# create distributions for each state transition\n",
    "P_dist = [stats.rv_discrete(name='dist%d' % (i), \n",
    "                            values=(np.arange(nStates), transMatrix[i,:])) \n",
    "          for i in np.arange(nStates)]"
   ]
  },
  {
   "cell_type": "code",
   "execution_count": 14,
   "metadata": {},
   "outputs": [
    {
     "data": {
      "text/plain": [
       "array([1, 1, 1, 1, 3, 1, 1, 1, 1, 1])"
      ]
     },
     "execution_count": 14,
     "metadata": {},
     "output_type": "execute_result"
    }
   ],
   "source": [
    "# test the distributions\n",
    "P_dist[0].rvs(size=10)"
   ]
  },
  {
   "cell_type": "code",
   "execution_count": 15,
   "metadata": {
    "collapsed": true
   },
   "outputs": [],
   "source": [
    "# function to generate sample path\n",
    "def samplePath(P_dist, states, init=0, sample_size=10):\n",
    "    # create empty sample array\n",
    "    X = np.empty(sample_size, dtype=int)\n",
    "    X[0] = init\n",
    "    \n",
    "    outputs = np.empty(sample_size, dtype='|S10')\n",
    "    outputs[0] = states[init]\n",
    "    \n",
    "    # sample from the markov chain\n",
    "    for t in range(sample_size-1):\n",
    "        X[t+1] = (P_dist[X[t]].rvs(size=1))[0]\n",
    "        outputs[t+1] = states[X[t+1]]\n",
    "        \n",
    "    return X, outputs"
   ]
  },
  {
   "cell_type": "code",
   "execution_count": 18,
   "metadata": {},
   "outputs": [
    {
     "name": "stdout",
     "output_type": "stream",
     "text": [
      "[b'C1' b'C2' b'S' b'S' b'S' b'S' b'S' b'S' b'S' b'S']\n",
      "[b'C1' b'FB' b'FB' b'FB' b'FB' b'FB' b'FB' b'FB' b'FB' b'FB']\n",
      "[b'C1' b'C2' b'S' b'S' b'S' b'S' b'S' b'S' b'S' b'S']\n",
      "[b'C1' b'C2' b'C3' b'Ps' b'S' b'S' b'S' b'S' b'S' b'S']\n",
      "[b'C1' b'FB' b'FB' b'C1' b'C2' b'C3' b'Pb' b'C3' b'Ps' b'S']\n",
      "[b'C1' b'FB' b'FB' b'FB' b'FB' b'FB' b'FB' b'FB' b'FB' b'FB']\n",
      "[b'C1' b'FB' b'FB' b'FB' b'FB' b'FB' b'FB' b'FB' b'C1' b'C2']\n",
      "[b'C1' b'C2' b'C3' b'Pb' b'C3' b'Ps' b'S' b'S' b'S' b'S']\n",
      "[b'C1' b'C2' b'C3' b'Ps' b'S' b'S' b'S' b'S' b'S' b'S']\n",
      "[b'C1' b'FB' b'FB' b'FB' b'FB' b'FB' b'FB' b'FB' b'FB' b'FB']\n"
     ]
    }
   ],
   "source": [
    "# sample paths from the Markov chain\n",
    "for i in range(10):\n",
    "    X,outputs = samplePath(P_dist, states)\n",
    "    print (outputs)"
   ]
  },
  {
   "cell_type": "code",
   "execution_count": null,
   "metadata": {
    "collapsed": true
   },
   "outputs": [],
   "source": []
  }
 ],
 "metadata": {
  "kernelspec": {
   "display_name": "Python 3",
   "language": "python",
   "name": "python3"
  },
  "language_info": {
   "codemirror_mode": {
    "name": "ipython",
    "version": 3
   },
   "file_extension": ".py",
   "mimetype": "text/x-python",
   "name": "python",
   "nbconvert_exporter": "python",
   "pygments_lexer": "ipython3",
   "version": "3.6.1"
  }
 },
 "nbformat": 4,
 "nbformat_minor": 2
}
